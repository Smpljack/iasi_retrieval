{
 "cells": [
  {
   "cell_type": "code",
   "execution_count": 1,
   "metadata": {
    "ExecuteTime": {
     "end_time": "2019-10-21T11:30:15.805586Z",
     "start_time": "2019-10-21T11:30:12.569726Z"
    }
   },
   "outputs": [],
   "source": [
    "from typhon.arts import xml, sensor"
   ]
  },
  {
   "cell_type": "code",
   "execution_count": 19,
   "metadata": {
    "ExecuteTime": {
     "end_time": "2019-10-21T11:52:14.063689Z",
     "start_time": "2019-10-21T11:52:10.201005Z"
    }
   },
   "outputs": [],
   "source": [
    "eresma_atm = xml.load(\"/scratch/uni/u237/user_data/mprange/arts-xml-data/planets/Earth/ECMWF/\"\n",
    "                  \"IFS/Eresmaa_137L/eresmaal137_all_q.xml.gz\")\n",
    "eresma_sfc = xml.load(\"/scratch/uni/u237/user_data/mprange/arts-xml-data/planets/Earth/ECMWF/\"\n",
    "                  \"IFS/Eresmaa_137L/eresmaal137_all_q_surface.xml.gz\")\n",
    "garand = xml.load(\"/scratch/uni/u237/users/mprange/arts/controlfiles/testdata/garand_profiles.xml.gz\")"
   ]
  },
  {
   "cell_type": "raw",
   "metadata": {
    "ExecuteTime": {
     "end_time": "2019-10-21T11:54:42.094498Z",
     "start_time": "2019-10-21T11:54:42.072816Z"
    }
   },
   "source": [
    "garand[0]"
   ]
  }
 ],
 "metadata": {
  "kernelspec": {
   "display_name": "Python 3",
   "language": "python",
   "name": "python3"
  },
  "language_info": {
   "codemirror_mode": {
    "name": "ipython",
    "version": 3
   },
   "file_extension": ".py",
   "mimetype": "text/x-python",
   "name": "python",
   "nbconvert_exporter": "python",
   "pygments_lexer": "ipython3",
   "version": "3.7.4"
  },
  "toc": {
   "base_numbering": 1,
   "nav_menu": {},
   "number_sections": true,
   "sideBar": true,
   "skip_h1_title": false,
   "title_cell": "Table of Contents",
   "title_sidebar": "Contents",
   "toc_cell": false,
   "toc_position": {},
   "toc_section_display": true,
   "toc_window_display": false
  }
 },
 "nbformat": 4,
 "nbformat_minor": 2
}
