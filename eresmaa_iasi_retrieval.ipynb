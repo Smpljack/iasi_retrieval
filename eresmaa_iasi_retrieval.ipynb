{
 "cells": [
  {
   "cell_type": "code",
   "execution_count": 6,
   "metadata": {
    "ExecuteTime": {
     "end_time": "2019-10-22T11:11:31.330285Z",
     "start_time": "2019-10-22T11:11:31.322520Z"
    }
   },
   "outputs": [],
   "source": [
    "import os\n",
    "import numpy as np\n",
    "from typhon.arts.workspace import Workspace, arts_agenda\n",
    "from typhon.arts import sensor, xml\n",
    "from typhon.physics import wavelength2frequency, wavenumber2frequency"
   ]
  },
  {
   "cell_type": "code",
   "execution_count": 7,
   "metadata": {
    "ExecuteTime": {
     "end_time": "2019-10-22T11:11:36.958255Z",
     "start_time": "2019-10-22T11:11:33.353087Z"
    }
   },
   "outputs": [],
   "source": [
    "ws = Workspace(verbosity = 1)\n",
    "\n",
    "eresma_atm = xml.load(\"/scratch/uni/u237/user_data/mprange/arts-xml-data/planets/Earth/ECMWF/\"\n",
    "                  \"IFS/Eresmaa_137L/eresmaal137_all_q.xml.gz\")\n",
    "eresma_sfc = xml.load(\"/scratch/uni/u237/user_data/mprange/arts-xml-data/planets/Earth/ECMWF/\"\n",
    "                  \"IFS/Eresmaa_137L/eresmaal137_all_q_surface.xml.gz\")\n",
    "garand = xml.load(\"/scratch/uni/u237/users/mprange/arts/controlfiles/testdata/garand_profiles.xml.gz\")\n",
    "iasi_obs = xml.load(\"/scratch/uni/u237/users/mprange/phd/iasi_retrieval/iasi_obs_simulation/\"\n",
    "                    \"eresmaa_iasi_obs_119000_140000_225000_240000_cm-1/\"\n",
    "                    \"iasi_obs.xml\")"
   ]
  },
  {
   "cell_type": "code",
   "execution_count": 12,
   "metadata": {
    "ExecuteTime": {
     "end_time": "2019-10-22T11:11:52.204719Z",
     "start_time": "2019-10-22T11:11:52.194495Z"
    }
   },
   "outputs": [
    {
     "data": {
      "text/plain": [
       "array([[ 5.00100e+03,  1.15029e+01,  1.31392e+03, ...,  2.71460e+02,\n",
       "         2.71460e+02,  2.71460e+02],\n",
       "       [ 5.00200e+03,  1.14828e+01,  2.92992e+03, ...,  2.71460e+02,\n",
       "         2.71460e+02,  2.71460e+02],\n",
       "       [ 5.00300e+03,  1.14681e+01,  4.51192e+03, ...,  2.71460e+02,\n",
       "         2.71460e+02,  2.71460e+02],\n",
       "       ...,\n",
       "       [ 9.99800e+03,  1.15112e+01,  1.91968e+00, ...,  2.71460e+02,\n",
       "         2.71460e+02,  2.71460e+02],\n",
       "       [ 9.99900e+03,  1.15378e+01, -2.08032e+00, ...,  2.71460e+02,\n",
       "         2.71460e+02,  2.71460e+02],\n",
       "       [ 1.00000e+04,  1.15286e+01,  1.91968e+00, ...,  2.71460e+02,\n",
       "         2.71460e+02,  2.71460e+02]])"
      ]
     },
     "execution_count": 12,
     "metadata": {},
     "output_type": "execute_result"
    }
   ],
   "source": [
    "eresma_sfc"
   ]
  },
  {
   "cell_type": "code",
   "execution_count": 35,
   "metadata": {
    "ExecuteTime": {
     "end_time": "2019-10-21T15:00:58.480686Z",
     "start_time": "2019-10-21T15:00:58.473776Z"
    }
   },
   "outputs": [
    {
     "data": {
      "text/plain": [
       "[array([279.39818048, 278.55660605, 278.71668151, ..., 271.04691869,\n",
       "        271.26330856, 271.4542948 ]),\n",
       " array([283.01531019, 282.23005694, 282.3936781 , ..., 276.01517616,\n",
       "        276.19939829, 276.3609391 ]),\n",
       " array([288.52877231, 286.47856717, 286.84006063, ..., 281.93480223,\n",
       "        282.14823869, 282.33386432]),\n",
       " array([290.78142724, 289.73905305, 289.93042715, ..., 281.70827135,\n",
       "        281.95727214, 282.17475378]),\n",
       " array([295.04709088, 293.20661672, 293.53551207, ..., 287.16616237,\n",
       "        287.40143432, 287.60484852]),\n",
       " array([286.89258101, 283.86961525, 284.40427888, ..., 284.19173599,\n",
       "        284.34480541, 284.47659138]),\n",
       " array([293.59976529, 290.22257918, 290.78884033, ..., 288.61168806,\n",
       "        288.85028327, 289.05555237]),\n",
       " array([294.97924465, 293.15176589, 293.46541694, ..., 286.04131731,\n",
       "        286.31243252, 286.5479926 ]),\n",
       " array([305.37807313, 302.5614879 , 303.03412615, ..., 295.57253988,\n",
       "        295.90703756, 296.19566974]),\n",
       " array([296.23536545, 293.64904513, 294.09028828, ..., 288.48518361,\n",
       "        288.74903121, 288.97711957])]"
      ]
     },
     "execution_count": 35,
     "metadata": {},
     "output_type": "execute_result"
    }
   ],
   "source": [
    "iasi_obs"
   ]
  }
 ],
 "metadata": {
  "kernelspec": {
   "display_name": "Python 3",
   "language": "python",
   "name": "python3"
  },
  "language_info": {
   "codemirror_mode": {
    "name": "ipython",
    "version": 3
   },
   "file_extension": ".py",
   "mimetype": "text/x-python",
   "name": "python",
   "nbconvert_exporter": "python",
   "pygments_lexer": "ipython3",
   "version": "3.7.4"
  },
  "toc": {
   "base_numbering": 1,
   "nav_menu": {},
   "number_sections": true,
   "sideBar": true,
   "skip_h1_title": false,
   "title_cell": "Table of Contents",
   "title_sidebar": "Contents",
   "toc_cell": false,
   "toc_position": {},
   "toc_section_display": true,
   "toc_window_display": false
  }
 },
 "nbformat": 4,
 "nbformat_minor": 2
}
